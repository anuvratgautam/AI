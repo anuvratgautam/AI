{
 "cells": [
  {
   "cell_type": "markdown",
   "metadata": {},
   "source": [
    "# Linear Regression (Andrew Ng Method)"
   ]
  },
  {
   "cell_type": "code",
   "execution_count": 1,
   "metadata": {},
   "outputs": [],
   "source": [
    "import numpy as np\n",
    "import pandas as pd\n",
    "import matplotlib.pyplot as plt"
   ]
  },
  {
   "cell_type": "markdown",
   "metadata": {},
   "source": [
    "### Compute Predictions"
   ]
  },
  {
   "cell_type": "code",
   "execution_count": 2,
   "metadata": {},
   "outputs": [],
   "source": [
    "def compute_predictions(x_b,theta):\n",
    "    return x_b.dot(theta)"
   ]
  },
  {
   "cell_type": "markdown",
   "metadata": {},
   "source": [
    "### Cost Function"
   ]
  },
  {
   "cell_type": "markdown",
   "metadata": {},
   "source": [
    "### Cost Function for Linear Regression\n",
    "\n",
    "The cost function \\( J(\\theta) \\) for linear regression is defined as:\n",
    "\n",
    "\\[ \n",
    "\\text{Cost} = \\frac{1}{2m} \\sum_{i=1}^{m} \\left( \\hat{y}^{(i)} - y^{(i)} \\right)^2 \n",
    "\\]\n",
    "\n",
    "In vectorized form, this can be written as:\n",
    "\n",
    "\\[ \n",
    "\\text{Cost} = \\frac{1}{2m} \\cdot \\text{np.sum} \\left( \\text{n\\_b.dot}(\\theta) - y \\right)^2 \n",
    "\\]\n",
    "\n",
    "where:\n",
    "- \\( m \\) is the number of training examples\n",
    "- \\( \\text{n\\_b.dot}(\\theta) \\) represents the hypothesis \\( f_{\\vec{w}, b}(\\vec{x}) \\) or \\( \\hat{y} \\)\n",
    "- \\( y \\) is the vector of actual values\n"
   ]
  },
  {
   "cell_type": "code",
   "execution_count": 3,
   "metadata": {},
   "outputs": [],
   "source": [
    "def compute_cost(x_b,y,theta):\n",
    "    m= len(y)\n",
    "    prediction= compute_predictions(x_b,theta)\n",
    "    errors = prediction - y\n",
    "    cost= (1/(2*m))*np.sum(errors**2)\n",
    "\n",
    "    return cost"
   ]
  },
  {
   "cell_type": "markdown",
   "metadata": {},
   "source": [
    "### Gradient Descent"
   ]
  },
  {
   "cell_type": "markdown",
   "metadata": {},
   "source": [
    "Below the line x_b.T.dot(errors) means the dot product of Transpose of x_b and error in the prediction"
   ]
  },
  {
   "cell_type": "code",
   "execution_count": 4,
   "metadata": {},
   "outputs": [],
   "source": [
    "def gradient_descent(x_b, y, theta, alpha, iters, epsilon):\n",
    "    m = len(y)\n",
    "    cost_history = np.zeros(iters)\n",
    "\n",
    "    for i in range(iters):\n",
    "        prediction = compute_predictions(x_b, theta)\n",
    "        errors = prediction - y\n",
    "        gradients = (1/m) * x_b.T.dot(errors)\n",
    "        theta = theta - alpha * gradients\n",
    "        cost_history[i] = compute_cost(x_b, y, theta)\n",
    "\n",
    "        if i > 0 and np.abs(cost_history[i] - cost_history[i-1]) < epsilon:  # Break if the cost reduction is too small\n",
    "            break\n",
    "\n",
    "    return theta, cost_history"
   ]
  },
  {
   "cell_type": "markdown",
   "metadata": {},
   "source": [
    "### The training Data"
   ]
  },
  {
   "cell_type": "markdown",
   "metadata": {},
   "source": [
    "The code adds a column in the matrix of the features:\n",
    "\n",
    "#### x_b = np.c_[np.ones((x_normalized.shape[0], 1)), x_normalized] \n",
    "\n",
    "this is makes the matrix of x have a its first column be filled with values of 1.\n",
    "\n",
    "before:\n",
    "                                 \n",
    "    [850,2]\n",
    "    [1300,4]\n",
    "    [1050,3]\n",
    "\n",
    "after:       \n",
    "                                \n",
    "    [1,850,2]\n",
    "    [1,1300,4]\n",
    "    [1,1050,3]\n",
    "\n",
    "where the data is of [area, bedrooms] before and [b, area, bedrooms] after\n"
   ]
  },
  {
   "cell_type": "code",
   "execution_count": 5,
   "metadata": {},
   "outputs": [],
   "source": [
    "\n",
    "x = np.array([[ 850], [1300], [1600], [2000], [2300], [1100], [2500], [1800], [2200], [1500], [1900], [2400], [1000], [2100], [1400], [2700], [1700], [2000], [1200], [1600], [1900], [ 900], [2300], [1300], [1800], [2100], [1400], [1700], [1000], [2200], [1500], [ 800], [1900], [1200], [1600]])\n",
    "y = np.array([\n",
    "    [120000], [270000], [450000], [320000], [500000],\n",
    "    [180000], [600000], [280000], [420000], [350000],\n",
    "    [380000], [550000], [150000], [400000], [250000],\n",
    "    [650000], [300000], [480000], [220000], [330000],\n",
    "    [430000], [130000], [520000], [280000], [400000],\n",
    "    [580000], [200000], [350000], [170000], [450000],\n",
    "    [320000], [100000], [420000], [240000], [380000]\n",
    "])\n",
    "\n",
    "# Normalize the features and target\n",
    "x_mean, x_std = x.mean(), x.std()\n",
    "y_mean, y_std = y.mean(), y.std()\n",
    "\n",
    "x_normalized = (x - x_mean) / x_std\n",
    "y_normalized = (y - y_mean) / y_std\n",
    "\n",
    "x_b = np.c_[np.ones((x_normalized.shape[0], 1)), x_normalized]  # Add intercept term\n",
    "theta = np.random.randn(x_b.shape[1], 1) * 0.01"
   ]
  },
  {
   "cell_type": "markdown",
   "metadata": {},
   "source": [
    "### Remaining code"
   ]
  },
  {
   "cell_type": "code",
   "execution_count": 6,
   "metadata": {},
   "outputs": [],
   "source": [
    "#defining the learning rate and the number of iterations\n",
    "alpha = 1 #this is the learning rate\n",
    "iters = 1000 #this is the number of iterations the gradient descent will do\n",
    "epsilon = 0.001"
   ]
  },
  {
   "cell_type": "code",
   "execution_count": 7,
   "metadata": {},
   "outputs": [],
   "source": [
    "# Run the gradient descent\n",
    "theta, cost_history = gradient_descent(x_b, y_normalized, theta, alpha, iters, epsilon)"
   ]
  },
  {
   "cell_type": "code",
   "execution_count": 8,
   "metadata": {},
   "outputs": [
    {
     "name": "stdout",
     "output_type": "stream",
     "text": [
      "The estimated price for the house with area 850.0 is: $125,469.88\n"
     ]
    }
   ],
   "source": [
    "# Get the input from the user\n",
    "determine = float(input(\"Enter the Area of the House: \"))\n",
    "\n",
    "# Normalize the input using the same mean and standard deviation\n",
    "house = np.array([[determine]])\n",
    "house_normalized = (house - x_mean) / x_std\n",
    "\n",
    "# Add intercept term\n",
    "house_b = np.c_[np.ones((house_normalized.shape[0], 1)), house_normalized]\n",
    "\n",
    "# Predict the price\n",
    "price_normalized = house_b.dot(theta)\n",
    "price = price_normalized * y_std + y_mean  # Denormalize the price\n",
    "\n",
    "print(f\"The estimated price for the house with area {determine} is: ${price[0, 0]:,.2f}\")"
   ]
  },
  {
   "cell_type": "code",
   "execution_count": 9,
   "metadata": {},
   "outputs": [
    {
     "data": {
      "image/png": "[encoded data removed]",
      "text/plain": [
       "<Figure size 640x480 with 1 Axes>"
      ]
     },
     "metadata": {},
     "output_type": "display_data"
    }
   ],
   "source": [
    "# Plotting the actual vs predicted values\n",
    "plt.scatter(x, y, color='blue', label='Actual values')\n",
    "plt.plot(x, compute_predictions(x_b, theta) * y_std + y_mean, color='red', label='Fitted line')\n",
    "plt.xlabel('Area of House')\n",
    "plt.ylabel('Price')\n",
    "plt.title('Actual vs Predicted values')\n",
    "plt.legend()\n",
    "plt.show()\n"
   ]
  }
 ],
 "metadata": {
  "kernelspec": {
   "display_name": "Python 3",
   "language": "python",
   "name": "python3"
  },
  "language_info": {
   "codemirror_mode": {
    "name": "ipython",
    "version": 3
   },
   "file_extension": ".py",
   "mimetype": "text/x-python",
   "name": "python",
   "nbconvert_exporter": "python",
   "pygments_lexer": "ipython3",
   "version": "3.12.4"
  }
 },
 "nbformat": 4,
 "nbformat_minor": 2
}
